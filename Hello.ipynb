{
 "cells": [
  {
   "cell_type": "code",
   "execution_count": 161,
   "id": "48ce7e60-0060-471f-9cbc-6602c814351c",
   "metadata": {},
   "outputs": [],
   "source": [
    "import pandas as pd\n",
    "from sklearn.tree import DecisionTreeClassifier\n",
    "from sklearn import tree\n",
    "\n",
    "music_data = pd.read_csv('music.csv')\n",
    "X = music_data.drop(columns=['genre'])\n",
    "Y = music_data['genre']\n",
    "\n",
    "model = DecisionTreeClassifier()\n",
    "model.fit(X, Y)\n",
    "\n",
    "tree.export_graphviz(model, out_file='music-recommender.dot' ,\n",
    "                    feature_names=['age', 'gender'],\n",
    "                    class_names=sorted(y.unique()),\n",
    "                    label='all',\n",
    "                    rounded=True,\n",
    "                    filled=True)"
   ]
  },
  {
   "cell_type": "code",
   "execution_count": null,
   "id": "281a48d5-eaea-4bc6-8490-38036758c237",
   "metadata": {},
   "outputs": [],
   "source": []
  },
  {
   "cell_type": "code",
   "execution_count": 145,
   "id": "29e90229-c2e2-49a0-b730-198e59110b2e",
   "metadata": {},
   "outputs": [
    {
     "name": "stdout",
     "output_type": "stream",
     "text": [
      "     Unnamed: 0  Student Number           Student's Full name  Section Block  \\\n",
      "0           1.0      20965937.0        Almanzor, Keith Ryan N.        CS 201   \n",
      "1           2.0      20964644.0      Gonzales, John Reshley P.        CS 201   \n",
      "2           3.0      20942954.0  Alejandro, Francine Angela G.        CS 201   \n",
      "3           4.0      20965544.0             Ruiz, Eina Loux M.        CS 201   \n",
      "4           5.0      20943472.0    Pascua, Maria Niña Grace L.        CS 201   \n",
      "..          ...             ...                            ...           ...   \n",
      "113        34.0      20966376.0      Priniel, Justin Errol L.         CS 203   \n",
      "114        35.0      20961090.0               Dela Cruz Kian S        CS 203   \n",
      "115        36.0      20554975.0                  Nuqui, Rex Q.        CS 203   \n",
      "116        37.0      20553096.0             Morabe, Gabriel M.        CS 203   \n",
      "117        38.0      20950301.0   Marquez, Jian Kalel Dingcong        CS 203   \n",
      "\n",
      "    Year Level  Unnamed: 5  Unnamed: 6  Unnamed: 7  Unnamed: 8  Unnamed: 9  \\\n",
      "0     2nd Year         NaN         NaN         NaN         NaN         NaN   \n",
      "1     2nd Year         NaN         NaN         NaN         NaN         NaN   \n",
      "2     2nd Year         NaN         NaN         NaN         NaN         NaN   \n",
      "3     2nd Year         NaN         NaN         NaN         NaN         NaN   \n",
      "4     2nd Year         NaN         NaN         NaN         NaN         NaN   \n",
      "..         ...         ...         ...         ...         ...         ...   \n",
      "113   2nd Year         NaN         NaN         NaN         NaN         NaN   \n",
      "114   2nd Year         NaN         NaN         NaN         NaN         NaN   \n",
      "115   2nd Year         NaN         NaN         NaN         NaN         NaN   \n",
      "116   2nd Year         NaN         NaN         NaN         NaN         NaN   \n",
      "117   2nd Year         NaN         NaN         NaN         NaN         NaN   \n",
      "\n",
      "     Unnamed: 10  Unnamed: 11  Unnamed: 12  Unnamed: 13  Unnamed: 14  \\\n",
      "0            NaN          NaN          NaN          NaN          NaN   \n",
      "1            NaN          NaN          NaN          NaN          NaN   \n",
      "2            NaN          NaN          NaN          NaN          NaN   \n",
      "3            NaN          NaN          NaN          NaN          NaN   \n",
      "4            NaN          NaN          NaN          NaN          NaN   \n",
      "..           ...          ...          ...          ...          ...   \n",
      "113          NaN          NaN          NaN          NaN          NaN   \n",
      "114          NaN          NaN          NaN          NaN          NaN   \n",
      "115          NaN          NaN          NaN          NaN          NaN   \n",
      "116          NaN          NaN          NaN          NaN          NaN   \n",
      "117          NaN          NaN          NaN          NaN          NaN   \n",
      "\n",
      "     Unnamed: 15  Unnamed: 16  Unnamed: 17  Unnamed: 18 Unnamed: 19  \n",
      "0            NaN          NaN          NaN          NaN         NaN  \n",
      "1            NaN          NaN          NaN          NaN         NaN  \n",
      "2            NaN          NaN          NaN          NaN         NaN  \n",
      "3            NaN          NaN          NaN          NaN         NaN  \n",
      "4            NaN          NaN          NaN          NaN         NaN  \n",
      "..           ...          ...          ...          ...         ...  \n",
      "113          NaN          NaN          NaN          NaN         NaN  \n",
      "114          NaN          NaN          NaN          NaN         NaN  \n",
      "115          NaN          NaN          NaN          NaN         NaN  \n",
      "116          NaN          NaN          NaN          NaN         NaN  \n",
      "117          NaN          NaN          NaN          NaN         NaN  \n",
      "\n",
      "[118 rows x 20 columns]\n"
     ]
    }
   ],
   "source": [
    "import pandas as pd\n",
    "\n",
    "pd.set_option('display.max_columns', 100)\n",
    "pd.set_option('display.max_rows', 100)\n",
    "\n",
    "section = pd.read_excel('section.xlsx')\n",
    "\n",
    "print(section)\n"
   ]
  },
  {
   "cell_type": "code",
   "execution_count": null,
   "id": "4c5b590f-0607-4b64-b10c-156b231bcaaa",
   "metadata": {},
   "outputs": [],
   "source": []
  }
 ],
 "metadata": {
  "kernelspec": {
   "display_name": "Python 3 (ipykernel)",
   "language": "python",
   "name": "python3"
  },
  "language_info": {
   "codemirror_mode": {
    "name": "ipython",
    "version": 3
   },
   "file_extension": ".py",
   "mimetype": "text/x-python",
   "name": "python",
   "nbconvert_exporter": "python",
   "pygments_lexer": "ipython3",
   "version": "3.12.4"
  }
 },
 "nbformat": 4,
 "nbformat_minor": 5
}
